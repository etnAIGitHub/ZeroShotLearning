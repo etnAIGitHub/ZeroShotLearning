{
 "cells": [
  {
   "cell_type": "code",
   "execution_count": null,
   "metadata": {},
   "outputs": [],
   "source": [
    "import matplotlib.pyplot as plt\n",
    "import matplotlib.patches as patches\n",
    "from matplotlib import animation\n",
    "from matplotlib.animation import FuncAnimation\n",
    "from IPython import display\n",
    "import numpy as np\n",
    "import pandas as pd\n",
    "from PIL import Image\n",
    "from os import path"
   ]
  },
  {
   "cell_type": "code",
   "execution_count": null,
   "metadata": {},
   "outputs": [],
   "source": [
    "import pandas as pd\n",
    "\n",
    "def createClassDataFrame(class_path):\n",
    "    class_name = class_path.split('/')[-1]\n",
    "    if not len(class_name): class_name = class_path.split('/')[-2]\n",
    "    df1 = pd.read_csv (path.join(class_path, class_name+'_1.csv'))\n",
    "    df1 = df1.set_index(pd.Index(range(len(df1)*2)[1::2]))\n",
    "    df2 = pd.read_csv (path.join(class_path, class_name+'_2.csv'))\n",
    "    df2 = df2.set_index(pd.Index(range(len(df2)*2)[::2]))\n",
    "    df = df1.append(df2)\n",
    "    df = df[df['region_count'] != 0]#.sort_values(by=['#filename'])\n",
    "    df.sort_index(inplace=True)\n",
    "    return df"
   ]
  },
  {
   "cell_type": "code",
   "execution_count": null,
   "metadata": {},
   "outputs": [],
   "source": [
    "import matplotlib.pyplot as plt\n",
    "import matplotlib.patches as patches\n",
    "import pandas as pd\n",
    "from PIL import Image\n",
    "\n",
    "\n",
    "def imageBB(class_path, df, index=0):\n",
    "    record = df.iloc[index]\n",
    "    \n",
    "    # Create figure and axes\n",
    "    fig, ax = plt.subplots(1)\n",
    "    fig.set_size_inches(8, 5)\n",
    "\n",
    "    img_name = record['#filename']\n",
    "    img = Image.open(path.join(class_path, 'images/'+img_name))\n",
    "    w, h = img.size\n",
    "    ax.set_title(\"({}x{})   {}\".format(w, h, path.join(class_path, 'images/'+img_name).split('Training/')[1]))\n",
    "\n",
    "    ax.imshow(img)\n",
    "    ax.axis('off')\n",
    "\n",
    "    region_shape = eval(record['region_shape_attributes'])\n",
    "    region_shape\n",
    "    bb_values = (region_shape['x'], region_shape['y'], region_shape['width'], region_shape['height'])\n",
    "\n",
    "    # Create a Rectangle patch\n",
    "    rect = patches.Rectangle(bb_values[:2], *bb_values[2:], linewidth=1, edgecolor='r', facecolor='none')\n",
    "\n",
    "    # Add the patch to the Axes\n",
    "    rect_patch = ax.add_patch(rect)"
   ]
  },
  {
   "cell_type": "code",
   "execution_count": null,
   "metadata": {},
   "outputs": [],
   "source": [
    "from matplotlib import animation\n",
    "from matplotlib.animation import FuncAnimation\n",
    "from IPython import display\n",
    "import numpy as np\n",
    "\n",
    "plt.rcParams['animation.ffmpeg_path'] = r'C:/Program Files/ffmpeg-4.2.2-win64/bin/ffmpeg.exe'\n",
    "\n",
    "def videoBB(class_path, df, w=1280, h=720):\n",
    "    fig = plt.figure(figsize=(13,8))\n",
    "    ax = plt.gca()\n",
    "    ax.axis('off')\n",
    "\n",
    "    ax_img = ax.imshow(Image.new('RGB', (w, h), color = 'white'))\n",
    "\n",
    "    def animate(frame):\n",
    "        record = df.iloc[frame]\n",
    "\n",
    "        img_name = record['#filename']\n",
    "        ax.set_title(path.join(class_path, 'images/'+img_name).split('Training/')[1])\n",
    "        img = Image.open(path.join(class_path, 'images/'+img_name))\n",
    "        ax_img.set_array(img)\n",
    "\n",
    "        [p.remove() for p in reversed(ax.patches)]\n",
    "\n",
    "        if record['region_count'] > 1:\n",
    "            multi = df[df['#filename'] == img_name]\n",
    "            for region_shape_dict_str in multi['region_shape_attributes']:\n",
    "                region_shape_dict = eval(region_shape_dict_str)\n",
    "                bb_values = (region_shape_dict['x'], region_shape_dict['y'], region_shape_dict['width'], region_shape_dict['height'])\n",
    "                rect = patches.Rectangle(bb_values[:2], *bb_values[2:], linewidth=1, edgecolor='b', facecolor='none')\n",
    "                rect_patch = ax.add_patch(rect)\n",
    "\n",
    "        else:\n",
    "            region_shape_dict = eval(record['region_shape_attributes'])\n",
    "            bb_values = (region_shape_dict['x'], region_shape_dict['y'], region_shape_dict['width'], region_shape_dict['height'])\n",
    "            rect = patches.Rectangle(bb_values[:2], *bb_values[2:], linewidth=1, edgecolor='r', facecolor='none')\n",
    "            rect_patch = ax.add_patch(rect)\n",
    "\n",
    "\n",
    "    anim = FuncAnimation(fig, animate, frames=len(df), interval=100)\n",
    "    video = anim.to_html5_video(embed_limit=100)\n",
    "    html = display.HTML(video)\n",
    "    display.clear_output(wait=True)\n",
    "    display.display(html)\n",
    "    plt.close()"
   ]
  },
  {
   "cell_type": "code",
   "execution_count": null,
   "metadata": {},
   "outputs": [],
   "source": [
    "root_path = r\"C:/Users/rikir/Downloads/2_Points_of_Interest_Recognition/Points Of Interest Recognition/Monastero dei Benedettini/\"\n",
    "train_path = path.join(root_path, \"Training/\")"
   ]
  },
  {
   "cell_type": "code",
   "execution_count": null,
   "metadata": {},
   "outputs": [],
   "source": [
    "class_path = path.join(train_path, \"8.11_BustoPietroTacchini\")\n",
    "df = createClassDataFrame(class_path)\n",
    "print(df.shape)\n",
    "df.head()"
   ]
  },
  {
   "cell_type": "code",
   "execution_count": null,
   "metadata": {
    "scrolled": false
   },
   "outputs": [],
   "source": [
    "imageBB(class_path, df, 0)"
   ]
  },
  {
   "cell_type": "code",
   "execution_count": null,
   "metadata": {},
   "outputs": [],
   "source": [
    "videoBB(class_path, df)"
   ]
  },
  {
   "cell_type": "code",
   "execution_count": null,
   "metadata": {},
   "outputs": [],
   "source": [
    "class_path = path.join(train_path, \"5.1_PortaAulaS.Mazzarino\")\n",
    "df = createClassDataFrame(class_path)\n",
    "print(df.shape)\n",
    "df.head()"
   ]
  },
  {
   "cell_type": "code",
   "execution_count": null,
   "metadata": {},
   "outputs": [],
   "source": [
    "videoBB(class_path, df)"
   ]
  },
  {
   "cell_type": "code",
   "execution_count": null,
   "metadata": {},
   "outputs": [],
   "source": [
    "class_path = path.join(train_path, \"5.2_PortaIngressoMuseoFabbrica\")\n",
    "df = createClassDataFrame(class_path)\n",
    "print(df.shape)\n",
    "df.head()"
   ]
  },
  {
   "cell_type": "code",
   "execution_count": null,
   "metadata": {},
   "outputs": [],
   "source": [
    "videoBB(class_path, df)"
   ]
  },
  {
   "cell_type": "code",
   "execution_count": null,
   "metadata": {},
   "outputs": [],
   "source": [
    "class_path = path.join(train_path, \"5.5_Cupola\")\n",
    "df = createClassDataFrame(class_path)\n",
    "print(df.shape)\n",
    "df.head()"
   ]
  },
  {
   "cell_type": "code",
   "execution_count": null,
   "metadata": {},
   "outputs": [],
   "source": [
    "videoBB(class_path, df)"
   ]
  },
  {
   "cell_type": "code",
   "execution_count": null,
   "metadata": {},
   "outputs": [],
   "source": [
    "class_path = path.join(train_path, \"5.7_S.Agata\")\n",
    "df = createClassDataFrame(class_path)\n",
    "print(df.shape)\n",
    "df.head()"
   ]
  },
  {
   "cell_type": "code",
   "execution_count": null,
   "metadata": {},
   "outputs": [],
   "source": [
    "videoBB(class_path, df)"
   ]
  },
  {
   "cell_type": "code",
   "execution_count": null,
   "metadata": {},
   "outputs": [],
   "source": [
    "class_path = path.join(train_path, \"6.6_LavamaniSx\")\n",
    "df = createClassDataFrame(class_path)\n",
    "print(df.shape)\n",
    "df.head()"
   ]
  },
  {
   "cell_type": "code",
   "execution_count": null,
   "metadata": {},
   "outputs": [],
   "source": [
    "videoBB(class_path, df)"
   ]
  },
  {
   "cell_type": "code",
   "execution_count": null,
   "metadata": {},
   "outputs": [],
   "source": [
    "class_path = path.join(train_path, \"6.9_Poltrone\")\n",
    "df = createClassDataFrame(class_path)\n",
    "print(df.shape)\n",
    "df.head()"
   ]
  },
  {
   "cell_type": "code",
   "execution_count": null,
   "metadata": {},
   "outputs": [],
   "source": [
    "videoBB(class_path, df)"
   ]
  },
  {
   "cell_type": "code",
   "execution_count": null,
   "metadata": {},
   "outputs": [],
   "source": [
    "class_path = path.join(train_path, \"7.2_PavimentoA\")\n",
    "df = createClassDataFrame(class_path)\n",
    "print(df.shape)\n",
    "df.head()"
   ]
  },
  {
   "cell_type": "code",
   "execution_count": null,
   "metadata": {},
   "outputs": [],
   "source": [
    "videoBB(class_path, df)"
   ]
  },
  {
   "cell_type": "code",
   "execution_count": null,
   "metadata": {},
   "outputs": [],
   "source": [
    "class_path = path.join(train_path, \"8.1_Doccione\")\n",
    "df = createClassDataFrame(class_path)\n",
    "print(df.shape)\n",
    "df.head()"
   ]
  },
  {
   "cell_type": "code",
   "execution_count": null,
   "metadata": {},
   "outputs": [],
   "source": [
    "videoBB(class_path, df)"
   ]
  },
  {
   "cell_type": "code",
   "execution_count": null,
   "metadata": {},
   "outputs": [],
   "source": [
    "class_path = path.join(train_path, \"8.2_VanoRaccoltaCenere\")\n",
    "df = createClassDataFrame(class_path)\n",
    "print(df.shape)\n",
    "df.head()"
   ]
  },
  {
   "cell_type": "code",
   "execution_count": null,
   "metadata": {},
   "outputs": [],
   "source": [
    "videoBB(class_path, df)"
   ]
  }
 ],
 "metadata": {
  "kernelspec": {
   "display_name": "Python 3",
   "language": "python",
   "name": "python3"
  },
  "language_info": {
   "codemirror_mode": {
    "name": "ipython",
    "version": 3
   },
   "file_extension": ".py",
   "mimetype": "text/x-python",
   "name": "python",
   "nbconvert_exporter": "python",
   "pygments_lexer": "ipython3",
   "version": "3.8.2"
  }
 },
 "nbformat": 4,
 "nbformat_minor": 4
}
