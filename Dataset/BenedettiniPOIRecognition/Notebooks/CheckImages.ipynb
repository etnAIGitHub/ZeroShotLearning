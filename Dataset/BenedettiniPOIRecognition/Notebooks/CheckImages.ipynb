{
 "cells": [
  {
   "cell_type": "code",
   "execution_count": 1,
   "metadata": {},
   "outputs": [],
   "source": [
    "import matplotlib.pyplot as plt\n",
    "import matplotlib.patches as patches\n",
    "import pandas as pd\n",
    "from PIL import Image\n",
    "from tqdm import tqdm\n",
    "from os import path, makedirs\n",
    "import json\n",
    "\n",
    "root_path = r\"D:/Sources/BenedettiniBBox/2_Points_of_Interest_Recognition/Points Of Interest Recognition/Monastero dei Benedettini/\"\n",
    "\n",
    "with open('val_dataset.json') as input_file:\n",
    "    val_dataset_json = json.load(input_file)\n",
    "    \n",
    "with open('train_dataset.json') as input_file:\n",
    "    train_dataset_json = json.load(input_file)\n",
    "    \n",
    "with open('test_dataset.json') as input_file:\n",
    "    test_dataset_json = json.load(input_file)\n",
    "    \n",
    "classes_map_df = pd.read_pickle('classes_map_df.pickle')"
   ]
  },
  {
   "cell_type": "code",
   "execution_count": 2,
   "metadata": {},
   "outputs": [],
   "source": [
    "for i in range(0, 37):\n",
    "    makedirs(r\"D:/Sources/BenedettiniBBox/Check/\"+str(i), exist_ok=True)"
   ]
  },
  {
   "cell_type": "code",
   "execution_count": 3,
   "metadata": {},
   "outputs": [],
   "source": [
    "def imageBBFromJSONObject(root_path, sample_JSONObj, idx):\n",
    "    # Create figure and axes\n",
    "    fig, ax = plt.subplots(1)\n",
    "    fig.set_size_inches(8, 5)\n",
    "\n",
    "    img = Image.open(path.join(root_path, sample_JSONObj['path']))\n",
    "    class_name = sample_JSONObj['path'].split('/')[0]\n",
    "    img_name = sample_JSONObj['path'].split('/')[-1]\n",
    "    ax.set_title(\"[{}]  [{}]  {}\".format(class_name, sample_JSONObj['class_id'], img_name))\n",
    "\n",
    "    ax.imshow(img)\n",
    "    ax.axis('off')\n",
    "    \n",
    "    x, y, widht, height = sample_JSONObj['bbox']\n",
    "    # Create a Rectangle patch\n",
    "    rect = patches.Rectangle((x, y), widht, height, linewidth=3, edgecolor='r', facecolor='none')\n",
    "\n",
    "    # Add the patch to the Axes\n",
    "    rect_patch = ax.add_patch(rect)\n",
    "    dst = r\"D:/Sources/BenedettiniBBox/Check/{}/{}_{}.jpg\".format(\n",
    "        str(sample_JSONObj['class_id']),\n",
    "        sample_JSONObj['path'].replace('/','_'),\n",
    "        str(idx)\n",
    "    )\n",
    "    plt.savefig(dst, bbox_inches='tight')\n",
    "    plt.close()"
   ]
  },
  {
   "cell_type": "code",
   "execution_count": 4,
   "metadata": {},
   "outputs": [
    {
     "name": "stderr",
     "output_type": "stream",
     "text": [
      "100%|██████████████████████████████████████████████████████████████████████████████| 1957/1957 [05:51<00:00,  5.58it/s]\n"
     ]
    }
   ],
   "source": [
    "for idx, obj in enumerate(tqdm(val_dataset_json['annotations'])):\n",
    "    imageBBFromJSONObject(root_path, obj, idx)"
   ]
  },
  {
   "cell_type": "code",
   "execution_count": null,
   "metadata": {},
   "outputs": [
    {
     "name": "stderr",
     "output_type": "stream",
     "text": [
      " 16%|███████████▉                                                               | 7036/44170 [26:18<2:19:10,  4.45it/s]"
     ]
    }
   ],
   "source": [
    "for idx, obj in enumerate(tqdm(test_dataset_json['annotations'])):\n",
    "    imageBBFromJSONObject(root_path, obj, idx)"
   ]
  },
  {
   "cell_type": "code",
   "execution_count": null,
   "metadata": {},
   "outputs": [],
   "source": [
    "for idx, obj in enumerate(tqdm(train_dataset_json['annotations'])):\n",
    "    imageBBFromJSONObject(root_path, obj, idx)"
   ]
  },
  {
   "cell_type": "code",
   "execution_count": null,
   "metadata": {},
   "outputs": [],
   "source": []
  }
 ],
 "metadata": {
  "kernelspec": {
   "display_name": "Python 3",
   "language": "python",
   "name": "python3"
  },
  "language_info": {
   "codemirror_mode": {
    "name": "ipython",
    "version": 3
   },
   "file_extension": ".py",
   "mimetype": "text/x-python",
   "name": "python",
   "nbconvert_exporter": "python",
   "pygments_lexer": "ipython3",
   "version": "3.8.2"
  }
 },
 "nbformat": 4,
 "nbformat_minor": 4
}
