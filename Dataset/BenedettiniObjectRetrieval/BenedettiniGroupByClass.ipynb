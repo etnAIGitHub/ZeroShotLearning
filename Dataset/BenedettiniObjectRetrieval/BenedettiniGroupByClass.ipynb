{
 "cells": [
  {
   "cell_type": "code",
   "execution_count": 1,
   "metadata": {},
   "outputs": [],
   "source": [
    "import os\n",
    "import pickle\n",
    "from os import path, listdir\n",
    "import numpy as np\n",
    "from numpy import genfromtxt\n",
    "from tqdm import tqdm\n",
    "import shutil"
   ]
  },
  {
   "cell_type": "code",
   "execution_count": 3,
   "metadata": {},
   "outputs": [],
   "source": [
    "dataset_path = r\"C:\\Users\\rikir\\Downloads\\Object_Retrieval\\Monastero_dei_Benedettini\"\n",
    "#filtered_path = path.join(dataset_path, \"filtered_target_list.pickle\")"
   ]
  },
  {
   "cell_type": "code",
   "execution_count": 4,
   "metadata": {},
   "outputs": [],
   "source": [
    "support_dir = path.join(dataset_path, 'Training')\n",
    "target_dir = path.join(dataset_path, 'Test')"
   ]
  },
  {
   "cell_type": "code",
   "execution_count": 6,
   "metadata": {},
   "outputs": [],
   "source": [
    "def createTargetDataFrame(target_dir):\n",
    "  target_list = []\n",
    "  for i in range(100, 167):\n",
    "    try:\n",
    "        images_dir = path.join(target_dir, str(i))\n",
    "        target_labels = genfromtxt(path.join(target_dir, 'labels/%d.txt' % i))\n",
    "        target_images = listdir(images_dir)\n",
    "        target_images.sort()\n",
    "\n",
    "        if len(target_labels) != len(target_images):\n",
    "            print(i, \"error labels and images num are not the same!\", len(target_labels), len(target_images))\n",
    "            raise Exception\n",
    "\n",
    "        for index, target_path in enumerate(target_images):\n",
    "            target_img_path = path.join(str(i), target_path)\n",
    "            target_class = int(target_labels[index])\n",
    "            target_list.append((target_img_path, target_class))\n",
    "\n",
    "    except Exception as e:\n",
    "        pass\n",
    "\n",
    "  return target_list"
   ]
  },
  {
   "cell_type": "code",
   "execution_count": 9,
   "metadata": {},
   "outputs": [],
   "source": [
    "bFiltered = False\n",
    "\n",
    "if bFiltered:\n",
    "    with open(filtered_path, 'rb') as file:\n",
    "        target_list = pickle.load(file)\n",
    "        target_list.sort()\n",
    "else:\n",
    "    target_list = createTargetDataFrame(target_dir)"
   ]
  },
  {
   "cell_type": "code",
   "execution_count": 19,
   "metadata": {
    "scrolled": true
   },
   "outputs": [
    {
     "data": {
      "text/plain": [
       "44978"
      ]
     },
     "execution_count": 19,
     "metadata": {},
     "output_type": "execute_result"
    }
   ],
   "source": [
    "len(target_list)"
   ]
  },
  {
   "cell_type": "code",
   "execution_count": 12,
   "metadata": {},
   "outputs": [],
   "source": [
    "for i in range(35):\n",
    "    os.makedirs('Classes/'+str(i), exist_ok=True)"
   ]
  },
  {
   "cell_type": "code",
   "execution_count": 31,
   "metadata": {},
   "outputs": [
    {
     "name": "stderr",
     "output_type": "stream",
     "text": [
      "100%|███████████████████████████████████████████████████████████████████████████| 44978/44978 [03:57<00:00, 189.00it/s]\n"
     ]
    }
   ],
   "source": [
    "for img_path, label in tqdm(target_list):\n",
    "    shutil.copyfile(path.join(target_dir, img_path), path.join('Classes/'+str(label), img_path.split(\"\\\\\")[1]))"
   ]
  },
  {
   "cell_type": "code",
   "execution_count": null,
   "metadata": {},
   "outputs": [],
   "source": []
  }
 ],
 "metadata": {
  "kernelspec": {
   "display_name": "Python 3",
   "language": "python",
   "name": "python3"
  },
  "language_info": {
   "codemirror_mode": {
    "name": "ipython",
    "version": 3
   },
   "file_extension": ".py",
   "mimetype": "text/x-python",
   "name": "python",
   "nbconvert_exporter": "python",
   "pygments_lexer": "ipython3",
   "version": "3.8.2"
  }
 },
 "nbformat": 4,
 "nbformat_minor": 2
}
