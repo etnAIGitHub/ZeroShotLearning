{
 "cells": [
  {
   "cell_type": "code",
   "execution_count": null,
   "metadata": {
    "colab": {
     "base_uri": "https://localhost:8080/",
     "height": 306
    },
    "colab_type": "code",
    "executionInfo": {
     "elapsed": 8781,
     "status": "ok",
     "timestamp": 1587990131208,
     "user": {
      "displayName": "Vulk AI",
      "photoUrl": "",
      "userId": "10144721592043473927"
     },
     "user_tz": -120
    },
    "id": "qvtNm5-6HsdW",
    "outputId": "b00db6b0-5e2b-4f5b-d5fd-edc499935e4d"
   },
   "outputs": [],
   "source": [
    "!nvidia-smi"
   ]
  },
  {
   "cell_type": "markdown",
   "metadata": {
    "colab_type": "text",
    "id": "2ljXy9VSO-nH"
   },
   "source": [
    "## Download COCO "
   ]
  },
  {
   "cell_type": "code",
   "execution_count": null,
   "metadata": {
    "colab": {},
    "colab_type": "code",
    "id": "WH8fXMHDKg7l"
   },
   "outputs": [],
   "source": [
    "#!rm -rf sample_data"
   ]
  },
  {
   "cell_type": "code",
   "execution_count": null,
   "metadata": {
    "colab": {},
    "colab_type": "code",
    "id": "b1ZSZN3_Pv8O"
   },
   "outputs": [],
   "source": [
    "#!mkdir COCO"
   ]
  },
  {
   "cell_type": "code",
   "execution_count": null,
   "metadata": {
    "colab": {
     "base_uri": "https://localhost:8080/",
     "height": 204
    },
    "colab_type": "code",
    "executionInfo": {
     "elapsed": 1361994,
     "status": "ok",
     "timestamp": 1587991933865,
     "user": {
      "displayName": "Vulk AI",
      "photoUrl": "",
      "userId": "10144721592043473927"
     },
     "user_tz": -120
    },
    "id": "zxs8Afp0PlKA",
    "outputId": "210ba80f-e516-460a-e360-59d330e019b7"
   },
   "outputs": [],
   "source": [
    "#!wget -c --output-document=\"COCO/train2017.zip\" http://images.cocodataset.org/zips/train2017.zip"
   ]
  },
  {
   "cell_type": "code",
   "execution_count": null,
   "metadata": {
    "colab": {},
    "colab_type": "code",
    "id": "eNW0xE0VPsuZ"
   },
   "outputs": [],
   "source": [
    "#!unzip -q COCO/train2017.zip -d COCO"
   ]
  },
  {
   "cell_type": "code",
   "execution_count": null,
   "metadata": {
    "colab": {},
    "colab_type": "code",
    "id": "q9T6JynZQ5J8"
   },
   "outputs": [],
   "source": [
    "#!rm -rf COCO/train2017.zip"
   ]
  },
  {
   "cell_type": "code",
   "execution_count": null,
   "metadata": {
    "colab": {
     "base_uri": "https://localhost:8080/",
     "height": 204
    },
    "colab_type": "code",
    "executionInfo": {
     "elapsed": 1972849,
     "status": "ok",
     "timestamp": 1587992546272,
     "user": {
      "displayName": "Vulk AI",
      "photoUrl": "",
      "userId": "10144721592043473927"
     },
     "user_tz": -120
    },
    "id": "HouQ7h8MP9bC",
    "outputId": "aa1e111f-b2ea-467e-eff2-3b47134fe7c0"
   },
   "outputs": [],
   "source": [
    "#!wget -c --output-document=\"COCO/val2017.zip\" http://images.cocodataset.org/zips/val2017.zip"
   ]
  },
  {
   "cell_type": "code",
   "execution_count": null,
   "metadata": {
    "colab": {},
    "colab_type": "code",
    "id": "U-Uu-59lQeVL"
   },
   "outputs": [],
   "source": [
    "#!unzip -q COCO/val2017.zip -d COCO"
   ]
  },
  {
   "cell_type": "code",
   "execution_count": null,
   "metadata": {
    "colab": {},
    "colab_type": "code",
    "id": "VJLLEKvaQ9A4"
   },
   "outputs": [],
   "source": [
    "#!rm -rf COCO/val2017.zip"
   ]
  },
  {
   "cell_type": "code",
   "execution_count": null,
   "metadata": {
    "colab": {
     "base_uri": "https://localhost:8080/",
     "height": 204
    },
    "colab_type": "code",
    "executionInfo": {
     "elapsed": 2002984,
     "status": "ok",
     "timestamp": 1587992577950,
     "user": {
      "displayName": "Vulk AI",
      "photoUrl": "",
      "userId": "10144721592043473927"
     },
     "user_tz": -120
    },
    "id": "DBzuTVq6QUA0",
    "outputId": "2b096c94-a541-4fa2-9ef4-356febe4f83c"
   },
   "outputs": [],
   "source": [
    "#!wget -c --output-document=\"COCO/annotations_trainval2017.zip\" http://images.cocodataset.org/annotations/annotations_trainval2017.zip"
   ]
  },
  {
   "cell_type": "code",
   "execution_count": null,
   "metadata": {
    "colab": {},
    "colab_type": "code",
    "id": "zPiVALe5QZov"
   },
   "outputs": [],
   "source": [
    "#!unzip -q COCO/annotations_trainval2017.zip -d COCO"
   ]
  },
  {
   "cell_type": "code",
   "execution_count": null,
   "metadata": {
    "colab": {},
    "colab_type": "code",
    "id": "11m98Q7BQ_Qd"
   },
   "outputs": [],
   "source": [
    "#!rm -rf COCO/annotations_trainval2017.zip"
   ]
  },
  {
   "cell_type": "markdown",
   "metadata": {},
   "source": [
    "CODING CONVENTIONS\n",
    "\n",
    "- All names use underscore casing\n",
    "- L_* for list variable names\n",
    "- D_* for dictionary variable names\n",
    "- T_* for tensor variable names\n",
    "- M_* for Pytorch models\n",
    "- DL_* for Data Loader\n",
    "- DSET_* for Dataset\n",
    "- Class names are in upper case\n",
    "- Function names start with a capital letter"
   ]
  },
  {
   "cell_type": "code",
   "execution_count": null,
   "metadata": {
    "colab": {},
    "colab_type": "code",
    "id": "w4PQL62hDCa1"
   },
   "outputs": [],
   "source": [
    "from torchvision import transforms\n",
    "from PIL import Image\n",
    "import os\n",
    "from os import path\n",
    "import torch\n",
    "import json\n",
    "import matplotlib.pyplot as plt\n",
    "import matplotlib.patches as patches\n",
    "import numpy as np\n",
    "from Dataset.CocoROIDataset import COCO_ROI_DATASET\n",
    "from utils import Denormalize_tensor, Show_figure_with_bbox\n",
    "from torch.utils.data import DataLoader"
   ]
  },
  {
   "cell_type": "markdown",
   "metadata": {
    "colab_type": "text",
    "id": "8-EBnjlQKWKh"
   },
   "source": [
    "## Dataset Class"
   ]
  },
  {
   "cell_type": "code",
   "execution_count": null,
   "metadata": {
    "colab": {},
    "colab_type": "code",
    "id": "rYVQ4CpJS4mk"
   },
   "outputs": [],
   "source": [
    "exp_name = \"RN50-SGD-CyclicLR-DA\"\n",
    "epochs = 200\n",
    "batch_size = 10\n",
    "num_batch_train = 400\n",
    "num_batch_val = 100\n",
    "lr = 0.006\n",
    "momentum = 0.6\n",
    "parameters_path = path.join(\"parameters\", exp_name)\n",
    "plots_path = path.join(\"plots\", exp_name)"
   ]
  },
  {
   "cell_type": "code",
   "execution_count": null,
   "metadata": {
    "colab": {},
    "colab_type": "code",
    "id": "a_x2GsOAK3xL"
   },
   "outputs": [],
   "source": [
    "#DSET_coco_training = COCO_ROI_DATASET(root_dirpath='F:/Datasets/COCO', split='train', batch_size=batch_size, num_batch=num_batch_train)\n",
    "DSET_coco_validation = COCO_ROI_DATASET(root_dirpath='F:/Datasets/COCO', split='val', batch_size=batch_size, num_batch=num_batch_val)"
   ]
  },
  {
   "cell_type": "code",
   "execution_count": null,
   "metadata": {
    "colab": {
     "base_uri": "https://localhost:8080/",
     "height": 720
    },
    "colab_type": "code",
    "executionInfo": {
     "elapsed": 24375,
     "status": "ok",
     "timestamp": 1587993761071,
     "user": {
      "displayName": "Vulk AI",
      "photoUrl": "",
      "userId": "10144721592043473927"
     },
     "user_tz": -120
    },
    "id": "VodpXhWtBD0-",
    "outputId": "3e4cdd8f-cd20-4df6-cf5f-2061656e5761"
   },
   "outputs": [],
   "source": [
    "(T_img, T_bbox), class_idx = DSET_coco_training[0]\n",
    "denormalize_func = Denormalize_tensor(mean=(0.485, 0.456, 0.406), std=(0.229, 0.224, 0.225))\n",
    "T_normal_img = denormalize_func(T_img)\n",
    "Show_figure_with_bbox(transforms.ToPILImage()(T_normal_img), (T_img.shape[1:3]), T_bbox.numpy())\n",
    "DSET_coco_validation.Get_class_idx_description(class_idx)"
   ]
  },
  {
   "cell_type": "code",
   "execution_count": null,
   "metadata": {
    "colab": {
     "base_uri": "https://localhost:8080/",
     "height": 720
    },
    "colab_type": "code",
    "executionInfo": {
     "elapsed": 24358,
     "status": "ok",
     "timestamp": 1587993761072,
     "user": {
      "displayName": "Vulk AI",
      "photoUrl": "",
      "userId": "10144721592043473927"
     },
     "user_tz": -120
    },
    "id": "UBB9HtqZPdYf",
    "outputId": "b3fcfaa7-70b9-4c0b-910e-75471747d43e"
   },
   "outputs": [],
   "source": [
    "(T_img, T_bbox), class_idx = DSET_coco_validation[0]\n",
    "denormalize_func = Denormalize_tensor(mean=(0.485, 0.456, 0.406), std=(0.229, 0.224, 0.225))\n",
    "T_normal_img = denormalize_func(T_img)\n",
    "Show_figure_with_bbox(transforms.ToPILImage()(T_normal_img), (T_img.shape[1:3]), T_bbox.numpy())\n",
    "DSET_coco_validation.Get_class_idx_description(class_idx)"
   ]
  },
  {
   "cell_type": "markdown",
   "metadata": {
    "colab_type": "text",
    "id": "BpJQHT7lOYLk"
   },
   "source": [
    "## Model"
   ]
  },
  {
   "cell_type": "code",
   "execution_count": null,
   "metadata": {
    "colab": {},
    "colab_type": "code",
    "id": "9DmdkORQLQCd"
   },
   "outputs": [],
   "source": [
    "from torchvision.models import resnet50, resnet101\n",
    "from torchvision.ops import RoIPool\n",
    "from torchvision.ops import RoIAlign\n",
    "\n",
    "class M_ROI_CLASSIFIER(torch.nn.Module):\n",
    "    def __init__(self):\n",
    "        \"\"\"\n",
    "        In the constructor we instantiate two nn.Linear modules and assign them as\n",
    "        member variables.\n",
    "        \"\"\"\n",
    "        super(M_ROI_CLASSIFIER, self).__init__()\n",
    "\n",
    "        M_backbone = resnet50(pretrained=True, replace_stride_with_dilation=[True, True, True])\n",
    "\n",
    "        M_conv_ = torch.nn.Conv2d(2048, 512, kernel_size=(1, 1), stride=(1, 1), bias=False)\n",
    "        M_batchn_ = torch.nn.BatchNorm2d(512, eps=1e-05, momentum=0.1, affine=True, track_running_stats=True)\n",
    "        M_relu_ = torch.nn.ReLU(inplace=True)\n",
    "        M_custom_layer = torch.nn.Sequential(\n",
    "            M_conv_,\n",
    "            M_batchn_,\n",
    "            M_relu_\n",
    "        )\n",
    "        self.M_custom_backbone = torch.nn.Sequential(\n",
    "            M_backbone.conv1,\n",
    "            M_backbone.bn1,\n",
    "            M_backbone.relu,\n",
    "            M_backbone.maxpool,\n",
    "            M_backbone.layer1,\n",
    "            M_backbone.layer2,\n",
    "            M_backbone.layer3,\n",
    "            M_backbone.layer4,\n",
    "            M_custom_layer\n",
    "        )\n",
    "\n",
    "        self.M_roi_align = RoIAlign(output_size=(7, 7), spatial_scale=1, sampling_ratio=-1)\n",
    "        self.M_flatten = torch.nn.Flatten()\n",
    "        self.M_classifier = torch.nn.Linear(in_features=25088, out_features=80, bias=True)\n",
    "\n",
    "    #def forward(self, T_image, T_roi_bbox):\n",
    "    def forward(self, inputs):\n",
    "        \"\"\"\n",
    "        In the forward function we accept a Tensor of input data and we must return\n",
    "        a Tensor of output data. We can use Modules defined in the constructor as\n",
    "        well as arbitrary operators on Tensors.\n",
    "        \"\"\"\n",
    "        T_image, T_roi_bbox = inputs;\n",
    "        T_extracted_features = self.M_custom_backbone(T_image)\n",
    "        batch_size = T_roi_bbox.shape[0]\n",
    "        T_roi_bbox = T_roi_bbox*T_extracted_features.shape[2];\n",
    "        T_batch_indices = torch.Tensor(list(range(batch_size))).to(\"cuda\")\n",
    "        T_roi_bbox = torch.cat((T_batch_indices.view(batch_size, 1), T_roi_bbox), axis=1)\n",
    "        T_roi_features = self.M_roi_align(T_extracted_features, T_roi_bbox)\n",
    "        T_roi_features_vector = self.M_flatten(T_roi_features)\n",
    "        return self.M_classifier(T_roi_features_vector)\n",
    "        \n",
    "        \"\"\"\n",
    "        batch_size = T_roi_bbox.shape[0]\n",
    "        T_roi_bbox = T_roi_bbox*240;\n",
    "        T_batch_indices = torch.Tensor(list(range(batch_size))).to(\"cuda\")\n",
    "        T_roi_bbox = torch.cat((T_batch_indices.view(batch_size, 1), T_roi_bbox), axis=1)\n",
    "        T_roi_features = self.M_roi_align(T_image, T_roi_bbox)\n",
    "        return T_roi_features\n",
    "        \"\"\""
   ]
  },
  {
   "cell_type": "code",
   "execution_count": null,
   "metadata": {
    "colab": {},
    "colab_type": "code",
    "id": "yKYClN9MPBPJ"
   },
   "outputs": [],
   "source": [
    "M_roi_classifier = M_ROI_CLASSIFIER().to('cuda')"
   ]
  },
  {
   "cell_type": "code",
   "execution_count": null,
   "metadata": {
    "colab": {},
    "colab_type": "code",
    "id": "liWNcRXyg2Qx"
   },
   "outputs": [],
   "source": [
    "DL_coco_training = DataLoader(DSET_coco_training, batch_size=batch_size, shuffle=False)\n",
    "DL_coco_validation = DataLoader(DSET_coco_validation, batch_size=batch_size, shuffle=False)"
   ]
  },
  {
   "cell_type": "raw",
   "metadata": {},
   "source": [
    "optimizer = torch.optim.SGD(M_roi_classifier.parameters(), lr=lr, momentum=momentum)\n",
    "optimizer = torch.optim.Adamax(M_roi_classifier.parameters(), lr=0.002, betas=(0.9, 0.999), eps=1e-08, weight_decay=0)\n",
    "criterion = torch.nn.CrossEntropyLoss()"
   ]
  },
  {
   "cell_type": "raw",
   "metadata": {
    "colab": {
     "base_uri": "https://localhost:8080/",
     "height": 1000
    },
    "colab_type": "code",
    "executionInfo": {
     "elapsed": 2906668,
     "status": "ok",
     "timestamp": 1587843696906,
     "user": {
      "displayName": "Etn AI",
      "photoUrl": "",
      "userId": "03173957006185439431"
     },
     "user_tz": -120
    },
    "id": "UXxriBALUWlS",
    "outputId": "414b34bf-3f2e-4708-fccc-761b3694dd1f"
   },
   "source": [
    "from tqdm import tqdm\n",
    "from epochsplotter import EpochsPlotter\n",
    "\n",
    "epochs_plotter = EpochsPlotter(folder_path=\"drive/My Drive/Logs/Pytorch_ROI\", labels=[\"Train\", \"Val\"], columns=[\"Loss\", \"Accuracy\"], load=False)\n",
    "\n",
    "loader = {\n",
    "'Train' : DL_coco_training,\n",
    "'Val' : DL_coco_validation\n",
    "}\n",
    "\n",
    "num_batch = {\n",
    "'Train' : num_batch_train,\n",
    "'Val' : num_batch_val\n",
    "}\n",
    "\n",
    "for epoch in range(epochs):  # loop over the dataset multiple times\n",
    "#{\n",
    "  for mode in ['Train', 'Val']:\n",
    "  #{\n",
    "    running_loss = 0.0\n",
    "    running_accuracy = 0.0\n",
    "\n",
    "    print(mode, flush=True)\n",
    "\n",
    "    M_roi_classifier.train() if mode == 'Train' else M_roi_classifier.eval()\n",
    "    with torch.set_grad_enabled(mode=='Train'):\n",
    "    #{\n",
    "      for i, batch in enumerate(tqdm(loader[mode])):\n",
    "      #{\n",
    "        (batch_image, batch_bbox), batch_gt = batch\n",
    "        batch_image = batch_image.to('cuda')\n",
    "        batch_bbox = batch_bbox.to('cuda')\n",
    "        batch_gt = batch_gt.long().to('cuda')\n",
    "\n",
    "        outputs = M_roi_classifier(batch_image, batch_bbox)\n",
    "        loss = criterion(outputs, batch_gt)\n",
    "\n",
    "        if mode=='Train':\n",
    "        #{\n",
    "          optimizer.zero_grad()\n",
    "          loss.backward()\n",
    "          optimizer.step()\n",
    "        #}\n",
    "\n",
    "        running_loss += loss.item()\n",
    "        \n",
    "        with torch.no_grad():\n",
    "        #{\n",
    "          max_vals, max_indices = torch.max(outputs, 1)\n",
    "          running_accuracy += ((max_indices == batch_gt).sum(dtype=torch.float32)).item()\n",
    "        #}\n",
    "      #}\n",
    "    #}\n",
    "    torch.save(M_roi_classifier.state_dict(), 'drive/My Drive/Weights/Pytorch_ROI/epoch-'+str(epoch))\n",
    "    epoch_accuracy = running_accuracy/(num_batch[mode]*batch_size)\n",
    "    epoch_loss = running_loss/num_batch[mode]\n",
    "    epochs_plotter.set(mode, epoch, \"Loss\", epoch_loss)\n",
    "    epochs_plotter.set(mode, epoch, \"Accuracy\", epoch_accuracy)http://127.0.0.1:8888/notebooks/Pytorch_ROI_Classification.ipynb#\n",
    "    epochs_plotter.save()\n",
    "    epochs_plotter.plot()\n",
    "    print(\"loss {:f} accuracy {:f}\".format(epoch_loss, epoch_accuracy), flush=True)\n",
    "  #}\n",
    "#}\n",
    "print('Finished Training')"
   ]
  },
  {
   "cell_type": "markdown",
   "metadata": {
    "colab_type": "text",
    "id": "Fe95xxlfLQ_l"
   },
   "source": [
    "## Trainer"
   ]
  },
  {
   "cell_type": "code",
   "execution_count": null,
   "metadata": {},
   "outputs": [],
   "source": [
    "from torchtrainer.trainer import Trainer, Mode\n",
    "from torchtrainer.callbacks.calculateaccuracycallback import CalculateTopNAccuracyCallback\n",
    "from torchtrainer.callbacks.calculatelosscallback import CalculateLossCallback\n",
    "from torchtrainer.callbacks.plotcallback import PlotCallback\n",
    "from torchtrainer.callbacks.saveparameterscallback import SaveParametersCallback\n",
    "from torchtrainer.callbacks.settqdmbardescription import SetTQDMBarDescription\n",
    "from torchtrainer.callbacks.lrbatchschedulercallback import LRBatchSchedulerCallBack"
   ]
  },
  {
   "cell_type": "code",
   "execution_count": null,
   "metadata": {
    "colab": {},
    "colab_type": "code",
    "id": "8qwEOlHJikki"
   },
   "outputs": [],
   "source": [
    "def prepare_batch_fn(batch, gt):\n",
    "    gt = gt.long()\n",
    "    return batch, gt"
   ]
  },
  {
   "cell_type": "code",
   "execution_count": null,
   "metadata": {
    "colab": {
     "base_uri": "https://localhost:8080/",
     "height": 231
    },
    "colab_type": "code",
    "executionInfo": {
     "elapsed": 61,
     "status": "error",
     "timestamp": 1587843712585,
     "user": {
      "displayName": "Etn AI",
      "photoUrl": "",
      "userId": "03173957006185439431"
     },
     "user_tz": -120
    },
    "id": "wzqvBUdKgWGN",
    "outputId": "ea58b47e-a4de-4b08-eac3-676feb9cb96b"
   },
   "outputs": [],
   "source": [
    "optimizer = torch.optim.SGD(M_roi_classifier.parameters(), lr=0.005, momentum=0.2)\n",
    "criterion = torch.nn.CrossEntropyLoss()\n",
    "scheduler = torch.optim.lr_scheduler.CyclicLR(optimizer,\n",
    "                                              step_size_up=50,\n",
    "                                              base_lr=0.0001, max_lr=0.005,\n",
    "                                              cycle_momentum=True,\n",
    "                                              base_momentum=0.1, max_momentum=0.2,\n",
    "                                             )\n",
    "\n",
    "trainer = Trainer(\n",
    "  device = 'cuda',\n",
    "  modes = [Mode.TRAIN, Mode.EVALUATE],\n",
    "  model = M_roi_classifier,\n",
    "  data_loaders = {Mode.TRAIN : DL_coco_training, Mode.EVALUATE : DL_coco_validation},\n",
    "  epochs = 200,\n",
    "  starting_epoch = 0,\n",
    "  optimizer = optimizer,\n",
    "  criterion = criterion,\n",
    "  prepare_batch_fn = prepare_batch_fn,\n",
    "  callbacks = [\n",
    "    LRBatchSchedulerCallBack(scheduler),\n",
    "    CalculateLossCallback(key='Loss'),\n",
    "    CalculateTopNAccuracyCallback(keys=('Top-1 accuracy',), topk=(1,)),\n",
    "    PlotCallback(plots_path, labels_map={Mode.TRAIN:\"Train\", Mode.EVALUATE:\"Val\"}, columns=['Loss', 'Top-1 accuracy']),\n",
    "    SetTQDMBarDescription(keys=['Loss', 'Top-1 accuracy']),\n",
    "    SaveParametersCallback(parameters_path),\n",
    "  ]\n",
    ")"
   ]
  },
  {
   "cell_type": "code",
   "execution_count": null,
   "metadata": {
    "colab": {},
    "colab_type": "code",
    "id": "M4EmFkOOly_9"
   },
   "outputs": [],
   "source": [
    "trainer.start()"
   ]
  },
  {
   "cell_type": "code",
   "execution_count": null,
   "metadata": {},
   "outputs": [],
   "source": [
    "y=[]\n",
    "for i in range(400):\n",
    "    scheduler.step()\n",
    "    y.append(scheduler.get_lr()[0])\n",
    "    \n",
    "plt.plot(range(400),y)\n",
    "plt.show()"
   ]
  },
  {
   "cell_type": "raw",
   "metadata": {
    "colab": {},
    "colab_type": "code",
    "id": "Tficfcbpl-Zk"
   },
   "source": [
    "import importlib\n",
    "import utils\n",
    "import utils.trainer\n",
    "importlib.reload(utils)\n",
    "importlib.reload(utils.trainer)"
   ]
  },
  {
   "cell_type": "code",
   "execution_count": null,
   "metadata": {},
   "outputs": [],
   "source": [
    "from torch_lr_finder import LRFinder"
   ]
  },
  {
   "cell_type": "code",
   "execution_count": null,
   "metadata": {},
   "outputs": [],
   "source": [
    "criterion = torch.nn.CrossEntropyLoss()"
   ]
  },
  {
   "cell_type": "code",
   "execution_count": null,
   "metadata": {},
   "outputs": [],
   "source": [
    "optimizer = torch.optim.SGD(M_roi_classifier.parameters(), lr=1e-7, momentum=0.0)\n",
    "lr_finder = LRFinder(M_roi_classifier, optimizer, criterion, device=\"cuda\")\n",
    "lr_finder.range_test(DL_coco_training, end_lr=1, num_iter=120)\n",
    "lr_finder.plot() # to inspect the loss-learning rate graph\n",
    "lr_finder.reset() # to reset the model and optimizer to their initial state"
   ]
  },
  {
   "cell_type": "code",
   "execution_count": null,
   "metadata": {},
   "outputs": [],
   "source": [
    "optimizer = torch.optim.SGD(M_roi_classifier.parameters(), lr=1e-7, momentum=0.2)\n",
    "lr_finder = LRFinder(M_roi_classifier, optimizer, criterion, device=\"cuda\")\n",
    "lr_finder.range_test(DL_coco_training, end_lr=1, num_iter=120)\n",
    "lr_finder.plot() # to inspect the loss-learning rate graph\n",
    "lr_finder.reset() # to reset the model and optimizer to their initial state"
   ]
  },
  {
   "cell_type": "code",
   "execution_count": null,
   "metadata": {},
   "outputs": [],
   "source": [
    "optimizer = torch.optim.SGD(M_roi_classifier.parameters(), lr=1e-7, momentum=0.8)\n",
    "lr_finder = LRFinder(M_roi_classifier, optimizer, criterion, device=\"cuda\")\n",
    "lr_finder.range_test(DL_coco_training, end_lr=1, num_iter=120)\n",
    "lr_finder.plot() # to inspect the loss-learning rate graph\n",
    "lr_finder.reset() # to reset the model and optimizer to their initial state"
   ]
  },
  {
   "cell_type": "code",
   "execution_count": null,
   "metadata": {},
   "outputs": [],
   "source": [
    "optimizer = torch.optim.SGD(M_roi_classifier.parameters(), lr=1e-7, momentum=0.0)\n",
    "lr_finder = LRFinder(M_roi_classifier, optimizer, criterion, device=\"cuda\")\n",
    "lr_finder.range_test(DL_coco_training, val_loader=DL_coco_validation, end_lr=1, num_iter=8, step_mode=\"linear\")\n",
    "lr_finder.plot(log_lr=False)\n",
    "lr_finder.reset()"
   ]
  },
  {
   "cell_type": "code",
   "execution_count": null,
   "metadata": {},
   "outputs": [],
   "source": [
    "optimizer = optim.Adam(M_roi_classifier.parameters(), lr=0.1, weight_decay=1e-2)\n",
    "lr_finder = LRFinder(model, optimizer, criterion, device=\"cuda\")\n",
    "lr_finder.range_test(DL_coco_training, val_loader=DL_coco_validation, end_lr=1, num_iter=100, step_mode=\"linear\")\n",
    "lr_finder.plot(log_lr=False)\n",
    "lr_finder.reset()"
   ]
  }
 ],
 "metadata": {
  "accelerator": "GPU",
  "colab": {
   "collapsed_sections": [],
   "name": "Pytorch_ROI_Classification.ipynb",
   "provenance": [],
   "toc_visible": true
  },
  "kernelspec": {
   "display_name": "Python 3.8.2 64-bit",
   "language": "python",
   "name": "python38264bit3357b369b00545e4b1505f61e201e4cf"
  },
  "language_info": {
   "codemirror_mode": {
    "name": "ipython",
    "version": 3
   },
   "file_extension": ".py",
   "mimetype": "text/x-python",
   "name": "python",
   "nbconvert_exporter": "python",
   "pygments_lexer": "ipython3",
   "version": "3.8.2-final"
  }
 },
 "nbformat": 4,
 "nbformat_minor": 1
}